{
 "cells": [
  {
   "cell_type": "markdown",
   "id": "a1613b8d",
   "metadata": {},
   "source": [
    "# Project in Data Science: \n",
    "# Sleep & Productivity Analytics: Patterns and Predictions"
   ]
  },
  {
   "cell_type": "markdown",
   "id": "02af145b",
   "metadata": {},
   "source": [
    "Sleep plays a crucial role in overall well-being, yet many people, especially students, struggle \n",
    "with maintaining a healthy sleep cycle. Personally, I have experienced sleep issues that have \n",
    "negatively affected my mood, stress levels, and daily productivity. This challenge is not unique to \n",
    "me, I believe many students face similar problems due to academic pressure, irregular \n",
    "schedules, and lifestyle habits.\n",
    "\n",
    "I have always been interested in how mood and stress are influenced by sleep and daily habits. \n",
    "This project allows me to explore these relationships using data-driven insights.\n",
    "\n",
    "Understanding these connections is important, as poor sleep quality impacts academic \n",
    "performance, mental health, and productivity. By analyzing this dataset, I hope to uncover \n",
    "insights that can help students and other people improve their well-being.\n",
    "\n",
    "<hr>"
   ]
  },
  {
   "cell_type": "code",
   "execution_count": 18,
   "id": "29da3cd8",
   "metadata": {},
   "outputs": [],
   "source": [
    "import seaborn as sns\n",
    "import matplotlib.pyplot as plt\n",
    "import numpy as np\n",
    "import pandas as pd\n",
    "import datetime\n",
    "import re\n",
    "\n",
    "import lightgbm as lgb\n",
    "\n",
    "from sklearn import preprocessing\n",
    "from sklearn.preprocessing import StandardScaler\n",
    "from sklearn.impute import SimpleImputer\n",
    "\n",
    "from sklearn.model_selection import train_test_split, GridSearchCV\n",
    "\n",
    "from sklearn.linear_model import LinearRegression\n",
    "from sklearn.dummy import DummyRegressor\n",
    "from catboost import CatBoostRegressor\n",
    "from lightgbm import LGBMRegressor\n",
    "\n",
    "from sklearn.metrics import mean_squared_error"
   ]
  },
  {
   "cell_type": "code",
   "execution_count": 2,
   "id": "d54e982f",
   "metadata": {},
   "outputs": [],
   "source": [
    "data = pd.read_csv(\"sleep_cycle_productivity.csv\")"
   ]
  },
  {
   "cell_type": "markdown",
   "id": "d8b6a40a",
   "metadata": {},
   "source": [
    "<hr>\n",
    "\n",
    "## Data overview"
   ]
  },
  {
   "cell_type": "code",
   "execution_count": 3,
   "id": "045da712",
   "metadata": {
    "scrolled": false
   },
   "outputs": [
    {
     "data": {
      "text/html": [
       "<div>\n",
       "<style scoped>\n",
       "    .dataframe tbody tr th:only-of-type {\n",
       "        vertical-align: middle;\n",
       "    }\n",
       "\n",
       "    .dataframe tbody tr th {\n",
       "        vertical-align: top;\n",
       "    }\n",
       "\n",
       "    .dataframe thead th {\n",
       "        text-align: right;\n",
       "    }\n",
       "</style>\n",
       "<table border=\"1\" class=\"dataframe\">\n",
       "  <thead>\n",
       "    <tr style=\"text-align: right;\">\n",
       "      <th></th>\n",
       "      <th>Date</th>\n",
       "      <th>Person_ID</th>\n",
       "      <th>Age</th>\n",
       "      <th>Gender</th>\n",
       "      <th>Sleep Start Time</th>\n",
       "      <th>Sleep End Time</th>\n",
       "      <th>Total Sleep Hours</th>\n",
       "      <th>Sleep Quality</th>\n",
       "      <th>Exercise (mins/day)</th>\n",
       "      <th>Caffeine Intake (mg)</th>\n",
       "      <th>Screen Time Before Bed (mins)</th>\n",
       "      <th>Work Hours (hrs/day)</th>\n",
       "      <th>Productivity Score</th>\n",
       "      <th>Mood Score</th>\n",
       "      <th>Stress Level</th>\n",
       "    </tr>\n",
       "  </thead>\n",
       "  <tbody>\n",
       "    <tr>\n",
       "      <th>0</th>\n",
       "      <td>2024-04-12</td>\n",
       "      <td>1860</td>\n",
       "      <td>32</td>\n",
       "      <td>Other</td>\n",
       "      <td>23.33</td>\n",
       "      <td>4.61</td>\n",
       "      <td>5.28</td>\n",
       "      <td>3</td>\n",
       "      <td>86</td>\n",
       "      <td>87</td>\n",
       "      <td>116</td>\n",
       "      <td>8.808920</td>\n",
       "      <td>8</td>\n",
       "      <td>3</td>\n",
       "      <td>6</td>\n",
       "    </tr>\n",
       "    <tr>\n",
       "      <th>1</th>\n",
       "      <td>2024-11-04</td>\n",
       "      <td>1769</td>\n",
       "      <td>41</td>\n",
       "      <td>Female</td>\n",
       "      <td>21.02</td>\n",
       "      <td>2.43</td>\n",
       "      <td>5.41</td>\n",
       "      <td>5</td>\n",
       "      <td>32</td>\n",
       "      <td>21</td>\n",
       "      <td>88</td>\n",
       "      <td>6.329833</td>\n",
       "      <td>10</td>\n",
       "      <td>3</td>\n",
       "      <td>7</td>\n",
       "    </tr>\n",
       "    <tr>\n",
       "      <th>2</th>\n",
       "      <td>2024-08-31</td>\n",
       "      <td>2528</td>\n",
       "      <td>20</td>\n",
       "      <td>Male</td>\n",
       "      <td>22.10</td>\n",
       "      <td>3.45</td>\n",
       "      <td>5.35</td>\n",
       "      <td>7</td>\n",
       "      <td>17</td>\n",
       "      <td>88</td>\n",
       "      <td>59</td>\n",
       "      <td>8.506306</td>\n",
       "      <td>10</td>\n",
       "      <td>9</td>\n",
       "      <td>10</td>\n",
       "    </tr>\n",
       "    <tr>\n",
       "      <th>3</th>\n",
       "      <td>2024-02-22</td>\n",
       "      <td>8041</td>\n",
       "      <td>37</td>\n",
       "      <td>Other</td>\n",
       "      <td>23.10</td>\n",
       "      <td>6.65</td>\n",
       "      <td>7.55</td>\n",
       "      <td>8</td>\n",
       "      <td>46</td>\n",
       "      <td>34</td>\n",
       "      <td>80</td>\n",
       "      <td>6.070240</td>\n",
       "      <td>8</td>\n",
       "      <td>4</td>\n",
       "      <td>2</td>\n",
       "    </tr>\n",
       "    <tr>\n",
       "      <th>4</th>\n",
       "      <td>2024-02-23</td>\n",
       "      <td>4843</td>\n",
       "      <td>46</td>\n",
       "      <td>Other</td>\n",
       "      <td>21.42</td>\n",
       "      <td>4.17</td>\n",
       "      <td>6.75</td>\n",
       "      <td>10</td>\n",
       "      <td>61</td>\n",
       "      <td>269</td>\n",
       "      <td>94</td>\n",
       "      <td>11.374994</td>\n",
       "      <td>8</td>\n",
       "      <td>7</td>\n",
       "      <td>9</td>\n",
       "    </tr>\n",
       "  </tbody>\n",
       "</table>\n",
       "</div>"
      ],
      "text/plain": [
       "         Date  Person_ID  Age  Gender  Sleep Start Time  Sleep End Time  \\\n",
       "0  2024-04-12       1860   32   Other             23.33            4.61   \n",
       "1  2024-11-04       1769   41  Female             21.02            2.43   \n",
       "2  2024-08-31       2528   20    Male             22.10            3.45   \n",
       "3  2024-02-22       8041   37   Other             23.10            6.65   \n",
       "4  2024-02-23       4843   46   Other             21.42            4.17   \n",
       "\n",
       "   Total Sleep Hours  Sleep Quality  Exercise (mins/day)  \\\n",
       "0               5.28              3                   86   \n",
       "1               5.41              5                   32   \n",
       "2               5.35              7                   17   \n",
       "3               7.55              8                   46   \n",
       "4               6.75             10                   61   \n",
       "\n",
       "   Caffeine Intake (mg)  Screen Time Before Bed (mins)  Work Hours (hrs/day)  \\\n",
       "0                    87                            116              8.808920   \n",
       "1                    21                             88              6.329833   \n",
       "2                    88                             59              8.506306   \n",
       "3                    34                             80              6.070240   \n",
       "4                   269                             94             11.374994   \n",
       "\n",
       "   Productivity Score  Mood Score  Stress Level  \n",
       "0                   8           3             6  \n",
       "1                  10           3             7  \n",
       "2                  10           9            10  \n",
       "3                   8           4             2  \n",
       "4                   8           7             9  "
      ]
     },
     "metadata": {},
     "output_type": "display_data"
    }
   ],
   "source": [
    "display(data.head())"
   ]
  },
  {
   "cell_type": "code",
   "execution_count": 4,
   "id": "e446bc52",
   "metadata": {},
   "outputs": [
    {
     "name": "stdout",
     "output_type": "stream",
     "text": [
      "<class 'pandas.core.frame.DataFrame'>\n",
      "RangeIndex: 5000 entries, 0 to 4999\n",
      "Data columns (total 15 columns):\n",
      " #   Column                         Non-Null Count  Dtype  \n",
      "---  ------                         --------------  -----  \n",
      " 0   Date                           5000 non-null   object \n",
      " 1   Person_ID                      5000 non-null   int64  \n",
      " 2   Age                            5000 non-null   int64  \n",
      " 3   Gender                         5000 non-null   object \n",
      " 4   Sleep Start Time               5000 non-null   float64\n",
      " 5   Sleep End Time                 5000 non-null   float64\n",
      " 6   Total Sleep Hours              5000 non-null   float64\n",
      " 7   Sleep Quality                  5000 non-null   int64  \n",
      " 8   Exercise (mins/day)            5000 non-null   int64  \n",
      " 9   Caffeine Intake (mg)           5000 non-null   int64  \n",
      " 10  Screen Time Before Bed (mins)  5000 non-null   int64  \n",
      " 11  Work Hours (hrs/day)           5000 non-null   float64\n",
      " 12  Productivity Score             5000 non-null   int64  \n",
      " 13  Mood Score                     5000 non-null   int64  \n",
      " 14  Stress Level                   5000 non-null   int64  \n",
      "dtypes: float64(4), int64(9), object(2)\n",
      "memory usage: 586.1+ KB\n"
     ]
    }
   ],
   "source": [
    "data.info()"
   ]
  },
  {
   "cell_type": "markdown",
   "id": "f588c003",
   "metadata": {},
   "source": [
    "<hr>\n",
    "\n",
    "## Data preprocessing\n",
    "\n",
    "There is no much data preprocessing needed, but I would rename columns and convert `date` to appropriate data type"
   ]
  },
  {
   "cell_type": "code",
   "execution_count": 5,
   "id": "561f04f2",
   "metadata": {},
   "outputs": [],
   "source": [
    "# columns rename \n",
    "data = data.rename(columns={'Date':'date', \n",
    "                            'Person_ID':'id', \n",
    "                            'Age':'age', \n",
    "                            'Gender':'gender', \n",
    "                            'Sleep Start Time':'sleep_start', \n",
    "                            'Sleep End Time':'sleep_end', \n",
    "                            'Total Sleep Hours':'total_sleep', \n",
    "                            'Sleep Quality':'sleep_quality', \n",
    "                            'Exercise (mins/day)':'exercise_time', \n",
    "                            'Caffeine Intake (mg)':'caffeine', \n",
    "                            'Screen Time Before Bed (mins)':'screen_time_before_bed', \n",
    "                            'Work Hours (hrs/day)':'work_hours',\n",
    "                            'Productivity Score':'productivity_score', \n",
    "                            'Mood Score':'mood_score', \n",
    "                            'Stress Level':'stress_score'}) "
   ]
  },
  {
   "cell_type": "code",
   "execution_count": 6,
   "id": "85880168",
   "metadata": {},
   "outputs": [],
   "source": [
    "# convert column date to datetime type\n",
    "data['date'] = pd.to_datetime(data['date'])"
   ]
  },
  {
   "cell_type": "code",
   "execution_count": 7,
   "id": "068602eb",
   "metadata": {},
   "outputs": [
    {
     "name": "stdout",
     "output_type": "stream",
     "text": [
      "<class 'pandas.core.frame.DataFrame'>\n",
      "RangeIndex: 5000 entries, 0 to 4999\n",
      "Data columns (total 15 columns):\n",
      " #   Column                  Non-Null Count  Dtype         \n",
      "---  ------                  --------------  -----         \n",
      " 0   date                    5000 non-null   datetime64[ns]\n",
      " 1   id                      5000 non-null   int64         \n",
      " 2   age                     5000 non-null   int64         \n",
      " 3   gender                  5000 non-null   object        \n",
      " 4   sleep_start             5000 non-null   float64       \n",
      " 5   sleep_end               5000 non-null   float64       \n",
      " 6   total_sleep             5000 non-null   float64       \n",
      " 7   sleep_quality           5000 non-null   int64         \n",
      " 8   exercise_time           5000 non-null   int64         \n",
      " 9   caffeine                5000 non-null   int64         \n",
      " 10  screen_time_before_bed  5000 non-null   int64         \n",
      " 11  work_hours              5000 non-null   float64       \n",
      " 12  productivity_score      5000 non-null   int64         \n",
      " 13  mood_score              5000 non-null   int64         \n",
      " 14  stress_score            5000 non-null   int64         \n",
      "dtypes: datetime64[ns](1), float64(4), int64(9), object(1)\n",
      "memory usage: 586.1+ KB\n"
     ]
    }
   ],
   "source": [
    "data.info()"
   ]
  },
  {
   "cell_type": "markdown",
   "id": "50ba2ede",
   "metadata": {},
   "source": [
    "<hr>\n",
    "\n",
    "## Exploratory Data Analysis (EDA)"
   ]
  },
  {
   "cell_type": "markdown",
   "id": "e9bcdb6c",
   "metadata": {},
   "source": [
    "### Summary statistics"
   ]
  },
  {
   "cell_type": "code",
   "execution_count": 8,
   "id": "1b73325f",
   "metadata": {
    "scrolled": true
   },
   "outputs": [
    {
     "data": {
      "text/html": [
       "<div>\n",
       "<style scoped>\n",
       "    .dataframe tbody tr th:only-of-type {\n",
       "        vertical-align: middle;\n",
       "    }\n",
       "\n",
       "    .dataframe tbody tr th {\n",
       "        vertical-align: top;\n",
       "    }\n",
       "\n",
       "    .dataframe thead th {\n",
       "        text-align: right;\n",
       "    }\n",
       "</style>\n",
       "<table border=\"1\" class=\"dataframe\">\n",
       "  <thead>\n",
       "    <tr style=\"text-align: right;\">\n",
       "      <th></th>\n",
       "      <th>date</th>\n",
       "      <th>id</th>\n",
       "      <th>age</th>\n",
       "      <th>sleep_start</th>\n",
       "      <th>sleep_end</th>\n",
       "      <th>total_sleep</th>\n",
       "      <th>sleep_quality</th>\n",
       "      <th>exercise_time</th>\n",
       "      <th>caffeine</th>\n",
       "      <th>screen_time_before_bed</th>\n",
       "      <th>work_hours</th>\n",
       "      <th>productivity_score</th>\n",
       "      <th>mood_score</th>\n",
       "      <th>stress_score</th>\n",
       "    </tr>\n",
       "  </thead>\n",
       "  <tbody>\n",
       "    <tr>\n",
       "      <th>count</th>\n",
       "      <td>5000</td>\n",
       "      <td>5000.000000</td>\n",
       "      <td>5000.000000</td>\n",
       "      <td>5000.000000</td>\n",
       "      <td>5000.000000</td>\n",
       "      <td>5000.000000</td>\n",
       "      <td>5000.000000</td>\n",
       "      <td>5000.000000</td>\n",
       "      <td>5000.00000</td>\n",
       "      <td>5000.000000</td>\n",
       "      <td>5000.000000</td>\n",
       "      <td>5000.000000</td>\n",
       "      <td>5000.000000</td>\n",
       "      <td>5000.000000</td>\n",
       "    </tr>\n",
       "    <tr>\n",
       "      <th>mean</th>\n",
       "      <td>2024-07-03 23:53:05.280000</td>\n",
       "      <td>5527.152200</td>\n",
       "      <td>38.590600</td>\n",
       "      <td>22.005350</td>\n",
       "      <td>4.980262</td>\n",
       "      <td>6.974902</td>\n",
       "      <td>5.520800</td>\n",
       "      <td>43.962600</td>\n",
       "      <td>146.71140</td>\n",
       "      <td>91.421200</td>\n",
       "      <td>7.987873</td>\n",
       "      <td>5.644200</td>\n",
       "      <td>5.370600</td>\n",
       "      <td>5.548000</td>\n",
       "    </tr>\n",
       "    <tr>\n",
       "      <th>min</th>\n",
       "      <td>2024-01-01 00:00:00</td>\n",
       "      <td>1000.000000</td>\n",
       "      <td>18.000000</td>\n",
       "      <td>20.000000</td>\n",
       "      <td>0.560000</td>\n",
       "      <td>4.500000</td>\n",
       "      <td>1.000000</td>\n",
       "      <td>0.000000</td>\n",
       "      <td>0.00000</td>\n",
       "      <td>0.000000</td>\n",
       "      <td>4.000067</td>\n",
       "      <td>1.000000</td>\n",
       "      <td>1.000000</td>\n",
       "      <td>1.000000</td>\n",
       "    </tr>\n",
       "    <tr>\n",
       "      <th>25%</th>\n",
       "      <td>2024-04-06 00:00:00</td>\n",
       "      <td>3258.000000</td>\n",
       "      <td>28.000000</td>\n",
       "      <td>21.020000</td>\n",
       "      <td>3.660000</td>\n",
       "      <td>5.690000</td>\n",
       "      <td>3.000000</td>\n",
       "      <td>22.000000</td>\n",
       "      <td>73.00000</td>\n",
       "      <td>46.000000</td>\n",
       "      <td>6.032720</td>\n",
       "      <td>3.000000</td>\n",
       "      <td>3.000000</td>\n",
       "      <td>3.000000</td>\n",
       "    </tr>\n",
       "    <tr>\n",
       "      <th>50%</th>\n",
       "      <td>2024-07-05 00:00:00</td>\n",
       "      <td>5603.000000</td>\n",
       "      <td>39.000000</td>\n",
       "      <td>22.020000</td>\n",
       "      <td>4.970000</td>\n",
       "      <td>6.960000</td>\n",
       "      <td>5.000000</td>\n",
       "      <td>44.000000</td>\n",
       "      <td>144.00000</td>\n",
       "      <td>92.000000</td>\n",
       "      <td>7.998295</td>\n",
       "      <td>6.000000</td>\n",
       "      <td>5.000000</td>\n",
       "      <td>6.000000</td>\n",
       "    </tr>\n",
       "    <tr>\n",
       "      <th>75%</th>\n",
       "      <td>2024-10-05 00:00:00</td>\n",
       "      <td>7749.500000</td>\n",
       "      <td>49.000000</td>\n",
       "      <td>23.000000</td>\n",
       "      <td>6.310000</td>\n",
       "      <td>8.210000</td>\n",
       "      <td>8.000000</td>\n",
       "      <td>66.000000</td>\n",
       "      <td>220.00000</td>\n",
       "      <td>136.000000</td>\n",
       "      <td>9.905024</td>\n",
       "      <td>8.000000</td>\n",
       "      <td>8.000000</td>\n",
       "      <td>8.000000</td>\n",
       "    </tr>\n",
       "    <tr>\n",
       "      <th>max</th>\n",
       "      <td>2024-12-31 00:00:00</td>\n",
       "      <td>9998.000000</td>\n",
       "      <td>59.000000</td>\n",
       "      <td>23.980000</td>\n",
       "      <td>9.420000</td>\n",
       "      <td>9.500000</td>\n",
       "      <td>10.000000</td>\n",
       "      <td>89.000000</td>\n",
       "      <td>299.00000</td>\n",
       "      <td>179.000000</td>\n",
       "      <td>11.999141</td>\n",
       "      <td>10.000000</td>\n",
       "      <td>10.000000</td>\n",
       "      <td>10.000000</td>\n",
       "    </tr>\n",
       "    <tr>\n",
       "      <th>std</th>\n",
       "      <td>NaN</td>\n",
       "      <td>2595.391771</td>\n",
       "      <td>12.302799</td>\n",
       "      <td>1.157591</td>\n",
       "      <td>1.862508</td>\n",
       "      <td>1.454033</td>\n",
       "      <td>2.863845</td>\n",
       "      <td>25.798541</td>\n",
       "      <td>85.83139</td>\n",
       "      <td>52.079123</td>\n",
       "      <td>2.275734</td>\n",
       "      <td>2.872221</td>\n",
       "      <td>2.835783</td>\n",
       "      <td>2.888419</td>\n",
       "    </tr>\n",
       "  </tbody>\n",
       "</table>\n",
       "</div>"
      ],
      "text/plain": [
       "                             date           id          age  sleep_start  \\\n",
       "count                        5000  5000.000000  5000.000000  5000.000000   \n",
       "mean   2024-07-03 23:53:05.280000  5527.152200    38.590600    22.005350   \n",
       "min           2024-01-01 00:00:00  1000.000000    18.000000    20.000000   \n",
       "25%           2024-04-06 00:00:00  3258.000000    28.000000    21.020000   \n",
       "50%           2024-07-05 00:00:00  5603.000000    39.000000    22.020000   \n",
       "75%           2024-10-05 00:00:00  7749.500000    49.000000    23.000000   \n",
       "max           2024-12-31 00:00:00  9998.000000    59.000000    23.980000   \n",
       "std                           NaN  2595.391771    12.302799     1.157591   \n",
       "\n",
       "         sleep_end  total_sleep  sleep_quality  exercise_time    caffeine  \\\n",
       "count  5000.000000  5000.000000    5000.000000    5000.000000  5000.00000   \n",
       "mean      4.980262     6.974902       5.520800      43.962600   146.71140   \n",
       "min       0.560000     4.500000       1.000000       0.000000     0.00000   \n",
       "25%       3.660000     5.690000       3.000000      22.000000    73.00000   \n",
       "50%       4.970000     6.960000       5.000000      44.000000   144.00000   \n",
       "75%       6.310000     8.210000       8.000000      66.000000   220.00000   \n",
       "max       9.420000     9.500000      10.000000      89.000000   299.00000   \n",
       "std       1.862508     1.454033       2.863845      25.798541    85.83139   \n",
       "\n",
       "       screen_time_before_bed   work_hours  productivity_score   mood_score  \\\n",
       "count             5000.000000  5000.000000         5000.000000  5000.000000   \n",
       "mean                91.421200     7.987873            5.644200     5.370600   \n",
       "min                  0.000000     4.000067            1.000000     1.000000   \n",
       "25%                 46.000000     6.032720            3.000000     3.000000   \n",
       "50%                 92.000000     7.998295            6.000000     5.000000   \n",
       "75%                136.000000     9.905024            8.000000     8.000000   \n",
       "max                179.000000    11.999141           10.000000    10.000000   \n",
       "std                 52.079123     2.275734            2.872221     2.835783   \n",
       "\n",
       "       stress_score  \n",
       "count   5000.000000  \n",
       "mean       5.548000  \n",
       "min        1.000000  \n",
       "25%        3.000000  \n",
       "50%        6.000000  \n",
       "75%        8.000000  \n",
       "max       10.000000  \n",
       "std        2.888419  "
      ]
     },
     "metadata": {},
     "output_type": "display_data"
    }
   ],
   "source": [
    "display(data.describe())"
   ]
  },
  {
   "cell_type": "markdown",
   "id": "eec8761c",
   "metadata": {},
   "source": [
    "<hr>\n",
    "\n",
    "### Duplicates & null values \n",
    "As we can see, our data doesn't contain any duplicates or NaN values "
   ]
  },
  {
   "cell_type": "code",
   "execution_count": 9,
   "id": "416de818",
   "metadata": {},
   "outputs": [
    {
     "data": {
      "text/plain": [
       "'Number of duplicates: 0'"
      ]
     },
     "metadata": {},
     "output_type": "display_data"
    },
    {
     "data": {
      "text/plain": [
       "'count of NULL values:'"
      ]
     },
     "metadata": {},
     "output_type": "display_data"
    },
    {
     "data": {
      "text/plain": [
       "date                      0\n",
       "id                        0\n",
       "age                       0\n",
       "gender                    0\n",
       "sleep_start               0\n",
       "sleep_end                 0\n",
       "total_sleep               0\n",
       "sleep_quality             0\n",
       "exercise_time             0\n",
       "caffeine                  0\n",
       "screen_time_before_bed    0\n",
       "work_hours                0\n",
       "productivity_score        0\n",
       "mood_score                0\n",
       "stress_score              0\n",
       "dtype: int64"
      ]
     },
     "metadata": {},
     "output_type": "display_data"
    }
   ],
   "source": [
    "# sum of duplicates\n",
    "display(\"Number of duplicates: \" + str(data.duplicated().sum()))\n",
    "\n",
    "# count of null values \n",
    "display(\"count of NULL values:\")\n",
    "display(data.isnull().sum())"
   ]
  },
  {
   "cell_type": "markdown",
   "id": "a8c7173d",
   "metadata": {},
   "source": [
    "<hr>\n",
    "\n",
    "### Outliers\n",
    "\n",
    "This code identifies outliers utilize the <b>1.5 * IQR method</b>, filtering values that fall <b>below Q1 - 1.5 * IQR or above Q3 + 1.5 * IQR</b>. It loops through selected columns <b>(excluding 'date', 'id', and 'gender')</b> to detect and display outliers."
   ]
  },
  {
   "cell_type": "code",
   "execution_count": 10,
   "id": "1026b9e7",
   "metadata": {},
   "outputs": [],
   "source": [
    "# function for finding outliers in particular column\n",
    "def detect_outliers(data, column):\n",
    "    # 1st and 3rd quantiles \n",
    "    Q1 = data[column].quantile(0.25)\n",
    "    Q3 = data[column].quantile(0.75)\n",
    "    \n",
    "    # inter-quantile range\n",
    "    IQR = Q3 - Q1\n",
    "    \n",
    "    lower_bound = Q1 - 1.5 * IQR\n",
    "    upper_bound = Q3 + 1.5 * IQR\n",
    "    \n",
    "    # return data that filtered more OR lower than 1.5 inter-quantile range (outlier)  \n",
    "    return data[(data[column] < lower_bound) | (data[column] > upper_bound)]"
   ]
  },
  {
   "cell_type": "code",
   "execution_count": 11,
   "id": "7813e161",
   "metadata": {
    "scrolled": false
   },
   "outputs": [
    {
     "data": {
      "text/plain": [
       "\"age - DOESN'T contain any outliers\""
      ]
     },
     "metadata": {},
     "output_type": "display_data"
    },
    {
     "data": {
      "text/plain": [
       "\"sleep_start - DOESN'T contain any outliers\""
      ]
     },
     "metadata": {},
     "output_type": "display_data"
    },
    {
     "data": {
      "text/plain": [
       "\"sleep_end - DOESN'T contain any outliers\""
      ]
     },
     "metadata": {},
     "output_type": "display_data"
    },
    {
     "data": {
      "text/plain": [
       "\"total_sleep - DOESN'T contain any outliers\""
      ]
     },
     "metadata": {},
     "output_type": "display_data"
    },
    {
     "data": {
      "text/plain": [
       "\"sleep_quality - DOESN'T contain any outliers\""
      ]
     },
     "metadata": {},
     "output_type": "display_data"
    },
    {
     "data": {
      "text/plain": [
       "\"exercise_time - DOESN'T contain any outliers\""
      ]
     },
     "metadata": {},
     "output_type": "display_data"
    },
    {
     "data": {
      "text/plain": [
       "\"caffeine - DOESN'T contain any outliers\""
      ]
     },
     "metadata": {},
     "output_type": "display_data"
    },
    {
     "data": {
      "text/plain": [
       "\"screen_time_before_bed - DOESN'T contain any outliers\""
      ]
     },
     "metadata": {},
     "output_type": "display_data"
    },
    {
     "data": {
      "text/plain": [
       "\"work_hours - DOESN'T contain any outliers\""
      ]
     },
     "metadata": {},
     "output_type": "display_data"
    },
    {
     "data": {
      "text/plain": [
       "\"productivity_score - DOESN'T contain any outliers\""
      ]
     },
     "metadata": {},
     "output_type": "display_data"
    },
    {
     "data": {
      "text/plain": [
       "\"mood_score - DOESN'T contain any outliers\""
      ]
     },
     "metadata": {},
     "output_type": "display_data"
    },
    {
     "data": {
      "text/plain": [
       "\"stress_score - DOESN'T contain any outliers\""
      ]
     },
     "metadata": {},
     "output_type": "display_data"
    }
   ],
   "source": [
    "# list with data columns\n",
    "columns = list(data.columns)\n",
    "\n",
    "# removing date, id and gender columns from list\n",
    "for column in ['date', 'id', 'gender']:\n",
    "    columns.remove(column)\n",
    "\n",
    "# going through all the columns to check data on outliers\n",
    "for column in columns:\n",
    "    outliers = detect_outliers(data, column)\n",
    "    \n",
    "    if (outliers.empty):\n",
    "        display(str(column) + \" - DOESN'T contain any outliers\")\n",
    "    else:\n",
    "        display(outliers)"
   ]
  },
  {
   "cell_type": "markdown",
   "id": "28f8374b",
   "metadata": {},
   "source": [
    "<hr>\n",
    "\n",
    "## Data Analysis\n",
    "\n",
    "The most part of the Data Analysis is concentrated in <b>Power BI report</b>. \n",
    "\n",
    "But there is some insights:"
   ]
  },
  {
   "cell_type": "markdown",
   "id": "9e26a2cb",
   "metadata": {},
   "source": [
    "### Correlation matrix\n",
    "\n",
    "<hr>\n",
    "\n",
    "There is also need to do dataset normalization before plotting a correlation matrix. \n",
    "\n",
    "<hr>\n",
    "\n",
    "* <b>Sleep related:</b>\n",
    "    * <b>total_sleep - sleep_start (0.89) & total_sleep - sleep_end (0.90)</b>: Strong correlation, as expected sleep duration depends on start and end times.\n",
    "    * <b>total_sleep - work_hours (0.73)</b>: More sleep is associated with more work hours, I might suggest disciplined lifestyle or scheduled routine.\n",
    "    * <b>total_sleep - productivity_score (0.59) & mood_score (0.57)</b>: Moderate correlation, more sleep is linked with better productivity and mood.\n",
    "    * <b>sleep_quality</b> also correlates moderately positively: 0.52 with work_hours, 0.41–0.43 with productivity/mood/stress.\n",
    "* <b>Negative factors:</b>\n",
    "    * <b>caffeine - sleep_start (-0.54), total_sleep (-0.48)</b>: More caffeine could mean less and later sleep.\n",
    "    * <b>screen_time_before_bed - caffeine (-0.70)</b>: A strong negative correlation suggests that people who consume more caffeine tend to spend less time on screens before bed or vice versa. Possibly, they substitute one habit for the other.\n",
    "    * <b>caffeine - mood, productivity, sleep quality (-0.34-0.36)</b>: caffeine has small negative impact on mood, productivity, sleep quality.\n",
    "* <b>Mental health:</b>\n",
    "    * <b>stress_score - mood_score (0.42), productivity_score (0.43)</b>: Positively correlated, could mean higher stress pushes performance up a little bit.\n",
    "    * <b>stress_score - total_sleep (0.58)</b>: Could be a sign of oversleeping due to stress."
   ]
  },
  {
   "cell_type": "code",
   "execution_count": 12,
   "id": "7ed369b7",
   "metadata": {},
   "outputs": [
    {
     "data": {
      "image/png": "[encoded data removed]",
      "text/plain": [
       "<Figure size 1200x800 with 2 Axes>"
      ]
     },
     "metadata": {},
     "output_type": "display_data"
    }
   ],
   "source": [
    "# to save column names\n",
    "cols = data.drop(['id', 'date', 'gender'], axis=1).columns\n",
    "\n",
    "# normalized dataset with assigning original columns back \n",
    "data_norm = pd.DataFrame(preprocessing.normalize(data.drop(['id', 'date', 'gender'], axis=1)), columns=cols)\n",
    "\n",
    "# correlation matrix\n",
    "corr_matrix = data_norm.corr()\n",
    "\n",
    "# heatmap using seaborn\n",
    "plt.figure(figsize=(12,8))\n",
    "plt.title(\"Correlation Matrix\")\n",
    "sns.heatmap(corr_matrix, annot=True, fmt=\".2f\", linewidths=0.5, cmap='seismic')\n",
    "\n",
    "plt.show()"
   ]
  },
  {
   "cell_type": "markdown",
   "id": "d241cf36",
   "metadata": {},
   "source": [
    "<hr>\n",
    "\n",
    "## Machine Learning\n",
    "\n",
    "I chose `productivity_score` as the target feature because it is a <b>measurable outcome</b> influenced by various lifestyle factors like sleep, caffeine, and screen time. Predicting productivity provides actionable insights for users aiming to improve daily performance and habits. \n",
    "\n",
    "Also, I chose <b>RMSE as a perfomance metric</b> because it gives more weight to large errors, which helps highlight big mistakes in predicting productivity. It also uses the same units as the score, so it's easier to understand how far off the predictions are."
   ]
  },
  {
   "cell_type": "markdown",
   "id": "92566750",
   "metadata": {},
   "source": [
    "<hr>\n",
    "\n",
    "### Data preprocessing\n",
    "\n",
    "I will split data into train, validation and test datasets with 8:1:1 ratio"
   ]
  },
  {
   "cell_type": "code",
   "execution_count": 175,
   "id": "2bc9b383",
   "metadata": {},
   "outputs": [
    {
     "data": {
      "text/html": [
       "<div>\n",
       "<style scoped>\n",
       "    .dataframe tbody tr th:only-of-type {\n",
       "        vertical-align: middle;\n",
       "    }\n",
       "\n",
       "    .dataframe tbody tr th {\n",
       "        vertical-align: top;\n",
       "    }\n",
       "\n",
       "    .dataframe thead th {\n",
       "        text-align: right;\n",
       "    }\n",
       "</style>\n",
       "<table border=\"1\" class=\"dataframe\">\n",
       "  <thead>\n",
       "    <tr style=\"text-align: right;\">\n",
       "      <th></th>\n",
       "      <th>age</th>\n",
       "      <th>sleep_start</th>\n",
       "      <th>sleep_end</th>\n",
       "      <th>total_sleep</th>\n",
       "      <th>sleep_quality</th>\n",
       "      <th>exercise_time</th>\n",
       "      <th>caffeine</th>\n",
       "      <th>screen_time_before_bed</th>\n",
       "      <th>work_hours</th>\n",
       "      <th>productivity_score</th>\n",
       "      <th>mood_score</th>\n",
       "      <th>stress_score</th>\n",
       "      <th>gender_Male</th>\n",
       "      <th>gender_Other</th>\n",
       "    </tr>\n",
       "  </thead>\n",
       "  <tbody>\n",
       "    <tr>\n",
       "      <th>0</th>\n",
       "      <td>32</td>\n",
       "      <td>23.33</td>\n",
       "      <td>4.61</td>\n",
       "      <td>5.28</td>\n",
       "      <td>3</td>\n",
       "      <td>86</td>\n",
       "      <td>87</td>\n",
       "      <td>116</td>\n",
       "      <td>8.808920</td>\n",
       "      <td>8</td>\n",
       "      <td>3</td>\n",
       "      <td>6</td>\n",
       "      <td>False</td>\n",
       "      <td>True</td>\n",
       "    </tr>\n",
       "    <tr>\n",
       "      <th>1</th>\n",
       "      <td>41</td>\n",
       "      <td>21.02</td>\n",
       "      <td>2.43</td>\n",
       "      <td>5.41</td>\n",
       "      <td>5</td>\n",
       "      <td>32</td>\n",
       "      <td>21</td>\n",
       "      <td>88</td>\n",
       "      <td>6.329833</td>\n",
       "      <td>10</td>\n",
       "      <td>3</td>\n",
       "      <td>7</td>\n",
       "      <td>False</td>\n",
       "      <td>False</td>\n",
       "    </tr>\n",
       "    <tr>\n",
       "      <th>2</th>\n",
       "      <td>20</td>\n",
       "      <td>22.10</td>\n",
       "      <td>3.45</td>\n",
       "      <td>5.35</td>\n",
       "      <td>7</td>\n",
       "      <td>17</td>\n",
       "      <td>88</td>\n",
       "      <td>59</td>\n",
       "      <td>8.506306</td>\n",
       "      <td>10</td>\n",
       "      <td>9</td>\n",
       "      <td>10</td>\n",
       "      <td>True</td>\n",
       "      <td>False</td>\n",
       "    </tr>\n",
       "    <tr>\n",
       "      <th>3</th>\n",
       "      <td>37</td>\n",
       "      <td>23.10</td>\n",
       "      <td>6.65</td>\n",
       "      <td>7.55</td>\n",
       "      <td>8</td>\n",
       "      <td>46</td>\n",
       "      <td>34</td>\n",
       "      <td>80</td>\n",
       "      <td>6.070240</td>\n",
       "      <td>8</td>\n",
       "      <td>4</td>\n",
       "      <td>2</td>\n",
       "      <td>False</td>\n",
       "      <td>True</td>\n",
       "    </tr>\n",
       "    <tr>\n",
       "      <th>4</th>\n",
       "      <td>46</td>\n",
       "      <td>21.42</td>\n",
       "      <td>4.17</td>\n",
       "      <td>6.75</td>\n",
       "      <td>10</td>\n",
       "      <td>61</td>\n",
       "      <td>269</td>\n",
       "      <td>94</td>\n",
       "      <td>11.374994</td>\n",
       "      <td>8</td>\n",
       "      <td>7</td>\n",
       "      <td>9</td>\n",
       "      <td>False</td>\n",
       "      <td>True</td>\n",
       "    </tr>\n",
       "  </tbody>\n",
       "</table>\n",
       "</div>"
      ],
      "text/plain": [
       "   age  sleep_start  sleep_end  total_sleep  sleep_quality  exercise_time  \\\n",
       "0   32        23.33       4.61         5.28              3             86   \n",
       "1   41        21.02       2.43         5.41              5             32   \n",
       "2   20        22.10       3.45         5.35              7             17   \n",
       "3   37        23.10       6.65         7.55              8             46   \n",
       "4   46        21.42       4.17         6.75             10             61   \n",
       "\n",
       "   caffeine  screen_time_before_bed  work_hours  productivity_score  \\\n",
       "0        87                     116    8.808920                   8   \n",
       "1        21                      88    6.329833                  10   \n",
       "2        88                      59    8.506306                  10   \n",
       "3        34                      80    6.070240                   8   \n",
       "4       269                      94   11.374994                   8   \n",
       "\n",
       "   mood_score  stress_score  gender_Male  gender_Other  \n",
       "0           3             6        False          True  \n",
       "1           3             7        False         False  \n",
       "2           9            10         True         False  \n",
       "3           4             2        False          True  \n",
       "4           7             9        False          True  "
      ]
     },
     "metadata": {},
     "output_type": "display_data"
    }
   ],
   "source": [
    "# dropping 'id' and 'date' columns\n",
    "data = data.drop(['id', 'date'], axis=1)\n",
    "\n",
    "# One-Hot Encoding (OHE)\n",
    "data = pd.get_dummies(data, drop_first=True)\n",
    "\n",
    "display(data.head())"
   ]
  },
  {
   "cell_type": "code",
   "execution_count": 176,
   "id": "1b14a6c1",
   "metadata": {},
   "outputs": [],
   "source": [
    "# data split\n",
    "data_train, data_temp = train_test_split(data, test_size=0.2, shuffle=False)\n",
    "data_valid, data_test = train_test_split(data_temp, test_size=0.5, shuffle=False)"
   ]
  },
  {
   "cell_type": "code",
   "execution_count": 177,
   "id": "085df716",
   "metadata": {},
   "outputs": [],
   "source": [
    "# train: features and target\n",
    "features_train = data_train.drop(['productivity_score'], axis=1)\n",
    "target_train = data_train['productivity_score']\n",
    "\n",
    "# valid: features and target\n",
    "features_valid = data_valid.drop(['productivity_score'], axis=1)\n",
    "target_valid = data_valid['productivity_score']\n",
    "\n",
    "# test: features and target\n",
    "features_test = data_test.drop(['productivity_score'], axis=1)\n",
    "target_test = data_test['productivity_score']"
   ]
  },
  {
   "cell_type": "markdown",
   "id": "5c05652c",
   "metadata": {},
   "source": [
    "I standartize datasets for Linear Regression model. <br>\n",
    "Fitting scaler only on training set then transforming validation and test sets with it "
   ]
  },
  {
   "cell_type": "code",
   "execution_count": 178,
   "id": "a349feae",
   "metadata": {},
   "outputs": [],
   "source": [
    "scaler = StandardScaler()\n",
    "\n",
    "scaler.fit(features_train)\n",
    "features_train_scaled = scaler.transform(features_train)\n",
    "features_valid_scaled = scaler.transform(features_valid)\n",
    "features_test_scaled = scaler.transform(features_test)"
   ]
  },
  {
   "cell_type": "markdown",
   "id": "f792a823",
   "metadata": {},
   "source": [
    "<hr>\n",
    "\n",
    "### Linear Regression\n",
    "\n",
    "Training time: less than a second <br>\n",
    "RMSE: <b>2.951</b>"
   ]
  },
  {
   "cell_type": "code",
   "execution_count": 179,
   "id": "70866e18",
   "metadata": {},
   "outputs": [
    {
     "name": "stdout",
     "output_type": "stream",
     "text": [
      "CPU times: total: 0 ns\n",
      "Wall time: 3 ms\n"
     ]
    },
    {
     "data": {
      "text/html": [
       "<style>#sk-container-id-23 {color: black;background-color: white;}#sk-container-id-23 pre{padding: 0;}#sk-container-id-23 div.sk-toggleable {background-color: white;}#sk-container-id-23 label.sk-toggleable__label {cursor: pointer;display: block;width: 100%;margin-bottom: 0;padding: 0.3em;box-sizing: border-box;text-align: center;}#sk-container-id-23 label.sk-toggleable__label-arrow:before {content: \"▸\";float: left;margin-right: 0.25em;color: #696969;}#sk-container-id-23 label.sk-toggleable__label-arrow:hover:before {color: black;}#sk-container-id-23 div.sk-estimator:hover label.sk-toggleable__label-arrow:before {color: black;}#sk-container-id-23 div.sk-toggleable__content {max-height: 0;max-width: 0;overflow: hidden;text-align: left;background-color: #f0f8ff;}#sk-container-id-23 div.sk-toggleable__content pre {margin: 0.2em;color: black;border-radius: 0.25em;background-color: #f0f8ff;}#sk-container-id-23 input.sk-toggleable__control:checked~div.sk-toggleable__content {max-height: 200px;max-width: 100%;overflow: auto;}#sk-container-id-23 input.sk-toggleable__control:checked~label.sk-toggleable__label-arrow:before {content: \"▾\";}#sk-container-id-23 div.sk-estimator input.sk-toggleable__control:checked~label.sk-toggleable__label {background-color: #d4ebff;}#sk-container-id-23 div.sk-label input.sk-toggleable__control:checked~label.sk-toggleable__label {background-color: #d4ebff;}#sk-container-id-23 input.sk-hidden--visually {border: 0;clip: rect(1px 1px 1px 1px);clip: rect(1px, 1px, 1px, 1px);height: 1px;margin: -1px;overflow: hidden;padding: 0;position: absolute;width: 1px;}#sk-container-id-23 div.sk-estimator {font-family: monospace;background-color: #f0f8ff;border: 1px dotted black;border-radius: 0.25em;box-sizing: border-box;margin-bottom: 0.5em;}#sk-container-id-23 div.sk-estimator:hover {background-color: #d4ebff;}#sk-container-id-23 div.sk-parallel-item::after {content: \"\";width: 100%;border-bottom: 1px solid gray;flex-grow: 1;}#sk-container-id-23 div.sk-label:hover label.sk-toggleable__label {background-color: #d4ebff;}#sk-container-id-23 div.sk-serial::before {content: \"\";position: absolute;border-left: 1px solid gray;box-sizing: border-box;top: 0;bottom: 0;left: 50%;z-index: 0;}#sk-container-id-23 div.sk-serial {display: flex;flex-direction: column;align-items: center;background-color: white;padding-right: 0.2em;padding-left: 0.2em;position: relative;}#sk-container-id-23 div.sk-item {position: relative;z-index: 1;}#sk-container-id-23 div.sk-parallel {display: flex;align-items: stretch;justify-content: center;background-color: white;position: relative;}#sk-container-id-23 div.sk-item::before, #sk-container-id-23 div.sk-parallel-item::before {content: \"\";position: absolute;border-left: 1px solid gray;box-sizing: border-box;top: 0;bottom: 0;left: 50%;z-index: -1;}#sk-container-id-23 div.sk-parallel-item {display: flex;flex-direction: column;z-index: 1;position: relative;background-color: white;}#sk-container-id-23 div.sk-parallel-item:first-child::after {align-self: flex-end;width: 50%;}#sk-container-id-23 div.sk-parallel-item:last-child::after {align-self: flex-start;width: 50%;}#sk-container-id-23 div.sk-parallel-item:only-child::after {width: 0;}#sk-container-id-23 div.sk-dashed-wrapped {border: 1px dashed gray;margin: 0 0.4em 0.5em 0.4em;box-sizing: border-box;padding-bottom: 0.4em;background-color: white;}#sk-container-id-23 div.sk-label label {font-family: monospace;font-weight: bold;display: inline-block;line-height: 1.2em;}#sk-container-id-23 div.sk-label-container {text-align: center;}#sk-container-id-23 div.sk-container {/* jupyter's `normalize.less` sets `[hidden] { display: none; }` but bootstrap.min.css set `[hidden] { display: none !important; }` so we also need the `!important` here to be able to override the default hidden behavior on the sphinx rendered scikit-learn.org. See: https://github.com/scikit-learn/scikit-learn/issues/21755 */display: inline-block !important;position: relative;}#sk-container-id-23 div.sk-text-repr-fallback {display: none;}</style><div id=\"sk-container-id-23\" class=\"sk-top-container\"><div class=\"sk-text-repr-fallback\"><pre>LinearRegression()</pre><b>In a Jupyter environment, please rerun this cell to show the HTML representation or trust the notebook. <br />On GitHub, the HTML representation is unable to render, please try loading this page with nbviewer.org.</b></div><div class=\"sk-container\" hidden><div class=\"sk-item\"><div class=\"sk-estimator sk-toggleable\"><input class=\"sk-toggleable__control sk-hidden--visually\" id=\"sk-estimator-id-51\" type=\"checkbox\" checked><label for=\"sk-estimator-id-51\" class=\"sk-toggleable__label sk-toggleable__label-arrow\">LinearRegression</label><div class=\"sk-toggleable__content\"><pre>LinearRegression()</pre></div></div></div></div></div>"
      ],
      "text/plain": [
       "LinearRegression()"
      ]
     },
     "execution_count": 179,
     "metadata": {},
     "output_type": "execute_result"
    }
   ],
   "source": [
    "%%time\n",
    "\n",
    "# Linear Regression model\n",
    "model_linear = LinearRegression()\n",
    "\n",
    "# training process\n",
    "model_linear.fit(features_train_scaled, target_train)"
   ]
  },
  {
   "cell_type": "code",
   "execution_count": 180,
   "id": "ed6cfbaf",
   "metadata": {},
   "outputs": [
    {
     "data": {
      "text/plain": [
       "2.9518480571788084"
      ]
     },
     "metadata": {},
     "output_type": "display_data"
    }
   ],
   "source": [
    "# predicted target\n",
    "pred_valid = model_linear.predict(features_valid_scaled)\n",
    "\n",
    "# RMSE of model on validation set\n",
    "display(mean_squared_error(target_valid, pred_valid, squared=False))"
   ]
  },
  {
   "cell_type": "markdown",
   "id": "772725bf",
   "metadata": {},
   "source": [
    "<hr>\n",
    "\n",
    "### LightGBM\n",
    "\n",
    "Training time: 57s <br>\n",
    "RMSE: <b>2.947</b>"
   ]
  },
  {
   "cell_type": "code",
   "execution_count": 181,
   "id": "f84d2b8e",
   "metadata": {},
   "outputs": [
    {
     "name": "stdout",
     "output_type": "stream",
     "text": [
      "CPU times: total: 1min 41s\n",
      "Wall time: 57.4 s\n"
     ]
    },
    {
     "data": {
      "text/html": [
       "<style>#sk-container-id-24 {color: black;background-color: white;}#sk-container-id-24 pre{padding: 0;}#sk-container-id-24 div.sk-toggleable {background-color: white;}#sk-container-id-24 label.sk-toggleable__label {cursor: pointer;display: block;width: 100%;margin-bottom: 0;padding: 0.3em;box-sizing: border-box;text-align: center;}#sk-container-id-24 label.sk-toggleable__label-arrow:before {content: \"▸\";float: left;margin-right: 0.25em;color: #696969;}#sk-container-id-24 label.sk-toggleable__label-arrow:hover:before {color: black;}#sk-container-id-24 div.sk-estimator:hover label.sk-toggleable__label-arrow:before {color: black;}#sk-container-id-24 div.sk-toggleable__content {max-height: 0;max-width: 0;overflow: hidden;text-align: left;background-color: #f0f8ff;}#sk-container-id-24 div.sk-toggleable__content pre {margin: 0.2em;color: black;border-radius: 0.25em;background-color: #f0f8ff;}#sk-container-id-24 input.sk-toggleable__control:checked~div.sk-toggleable__content {max-height: 200px;max-width: 100%;overflow: auto;}#sk-container-id-24 input.sk-toggleable__control:checked~label.sk-toggleable__label-arrow:before {content: \"▾\";}#sk-container-id-24 div.sk-estimator input.sk-toggleable__control:checked~label.sk-toggleable__label {background-color: #d4ebff;}#sk-container-id-24 div.sk-label input.sk-toggleable__control:checked~label.sk-toggleable__label {background-color: #d4ebff;}#sk-container-id-24 input.sk-hidden--visually {border: 0;clip: rect(1px 1px 1px 1px);clip: rect(1px, 1px, 1px, 1px);height: 1px;margin: -1px;overflow: hidden;padding: 0;position: absolute;width: 1px;}#sk-container-id-24 div.sk-estimator {font-family: monospace;background-color: #f0f8ff;border: 1px dotted black;border-radius: 0.25em;box-sizing: border-box;margin-bottom: 0.5em;}#sk-container-id-24 div.sk-estimator:hover {background-color: #d4ebff;}#sk-container-id-24 div.sk-parallel-item::after {content: \"\";width: 100%;border-bottom: 1px solid gray;flex-grow: 1;}#sk-container-id-24 div.sk-label:hover label.sk-toggleable__label {background-color: #d4ebff;}#sk-container-id-24 div.sk-serial::before {content: \"\";position: absolute;border-left: 1px solid gray;box-sizing: border-box;top: 0;bottom: 0;left: 50%;z-index: 0;}#sk-container-id-24 div.sk-serial {display: flex;flex-direction: column;align-items: center;background-color: white;padding-right: 0.2em;padding-left: 0.2em;position: relative;}#sk-container-id-24 div.sk-item {position: relative;z-index: 1;}#sk-container-id-24 div.sk-parallel {display: flex;align-items: stretch;justify-content: center;background-color: white;position: relative;}#sk-container-id-24 div.sk-item::before, #sk-container-id-24 div.sk-parallel-item::before {content: \"\";position: absolute;border-left: 1px solid gray;box-sizing: border-box;top: 0;bottom: 0;left: 50%;z-index: -1;}#sk-container-id-24 div.sk-parallel-item {display: flex;flex-direction: column;z-index: 1;position: relative;background-color: white;}#sk-container-id-24 div.sk-parallel-item:first-child::after {align-self: flex-end;width: 50%;}#sk-container-id-24 div.sk-parallel-item:last-child::after {align-self: flex-start;width: 50%;}#sk-container-id-24 div.sk-parallel-item:only-child::after {width: 0;}#sk-container-id-24 div.sk-dashed-wrapped {border: 1px dashed gray;margin: 0 0.4em 0.5em 0.4em;box-sizing: border-box;padding-bottom: 0.4em;background-color: white;}#sk-container-id-24 div.sk-label label {font-family: monospace;font-weight: bold;display: inline-block;line-height: 1.2em;}#sk-container-id-24 div.sk-label-container {text-align: center;}#sk-container-id-24 div.sk-container {/* jupyter's `normalize.less` sets `[hidden] { display: none; }` but bootstrap.min.css set `[hidden] { display: none !important; }` so we also need the `!important` here to be able to override the default hidden behavior on the sphinx rendered scikit-learn.org. See: https://github.com/scikit-learn/scikit-learn/issues/21755 */display: inline-block !important;position: relative;}#sk-container-id-24 div.sk-text-repr-fallback {display: none;}</style><div id=\"sk-container-id-24\" class=\"sk-top-container\"><div class=\"sk-text-repr-fallback\"><pre>GridSearchCV(cv=3, estimator=LGBMRegressor(random_state=42, verbose=-1),\n",
       "             param_grid={&#x27;feature_fraction&#x27;: [0.8, 1.0], &#x27;lambda_l1&#x27;: [0, 0.5],\n",
       "                         &#x27;lambda_l2&#x27;: [0, 0.5], &#x27;learning_rate&#x27;: [0.01, 0.1],\n",
       "                         &#x27;max_depth&#x27;: [10, 20, 30, 40, 50],\n",
       "                         &#x27;n_estimators&#x27;: [10, 32, 55, 77, 100],\n",
       "                         &#x27;num_leaves&#x27;: [31, 63]},\n",
       "             scoring=&#x27;neg_root_mean_squared_error&#x27;)</pre><b>In a Jupyter environment, please rerun this cell to show the HTML representation or trust the notebook. <br />On GitHub, the HTML representation is unable to render, please try loading this page with nbviewer.org.</b></div><div class=\"sk-container\" hidden><div class=\"sk-item sk-dashed-wrapped\"><div class=\"sk-label-container\"><div class=\"sk-label sk-toggleable\"><input class=\"sk-toggleable__control sk-hidden--visually\" id=\"sk-estimator-id-52\" type=\"checkbox\" ><label for=\"sk-estimator-id-52\" class=\"sk-toggleable__label sk-toggleable__label-arrow\">GridSearchCV</label><div class=\"sk-toggleable__content\"><pre>GridSearchCV(cv=3, estimator=LGBMRegressor(random_state=42, verbose=-1),\n",
       "             param_grid={&#x27;feature_fraction&#x27;: [0.8, 1.0], &#x27;lambda_l1&#x27;: [0, 0.5],\n",
       "                         &#x27;lambda_l2&#x27;: [0, 0.5], &#x27;learning_rate&#x27;: [0.01, 0.1],\n",
       "                         &#x27;max_depth&#x27;: [10, 20, 30, 40, 50],\n",
       "                         &#x27;n_estimators&#x27;: [10, 32, 55, 77, 100],\n",
       "                         &#x27;num_leaves&#x27;: [31, 63]},\n",
       "             scoring=&#x27;neg_root_mean_squared_error&#x27;)</pre></div></div></div><div class=\"sk-parallel\"><div class=\"sk-parallel-item\"><div class=\"sk-item\"><div class=\"sk-label-container\"><div class=\"sk-label sk-toggleable\"><input class=\"sk-toggleable__control sk-hidden--visually\" id=\"sk-estimator-id-53\" type=\"checkbox\" ><label for=\"sk-estimator-id-53\" class=\"sk-toggleable__label sk-toggleable__label-arrow\">estimator: LGBMRegressor</label><div class=\"sk-toggleable__content\"><pre>LGBMRegressor(random_state=42, verbose=-1)</pre></div></div></div><div class=\"sk-serial\"><div class=\"sk-item\"><div class=\"sk-estimator sk-toggleable\"><input class=\"sk-toggleable__control sk-hidden--visually\" id=\"sk-estimator-id-54\" type=\"checkbox\" ><label for=\"sk-estimator-id-54\" class=\"sk-toggleable__label sk-toggleable__label-arrow\">LGBMRegressor</label><div class=\"sk-toggleable__content\"><pre>LGBMRegressor(random_state=42, verbose=-1)</pre></div></div></div></div></div></div></div></div></div></div>"
      ],
      "text/plain": [
       "GridSearchCV(cv=3, estimator=LGBMRegressor(random_state=42, verbose=-1),\n",
       "             param_grid={'feature_fraction': [0.8, 1.0], 'lambda_l1': [0, 0.5],\n",
       "                         'lambda_l2': [0, 0.5], 'learning_rate': [0.01, 0.1],\n",
       "                         'max_depth': [10, 20, 30, 40, 50],\n",
       "                         'n_estimators': [10, 32, 55, 77, 100],\n",
       "                         'num_leaves': [31, 63]},\n",
       "             scoring='neg_root_mean_squared_error')"
      ]
     },
     "execution_count": 181,
     "metadata": {},
     "output_type": "execute_result"
    }
   ],
   "source": [
    "%%time\n",
    "\n",
    "# hyperparameter grid\n",
    "param_grid = {\n",
    "    'num_leaves': [31, 63],\n",
    "    'learning_rate': [0.01, 0.1],\n",
    "    'n_estimators': [int(x) for x in np.linspace(10, 100, num = 5)],\n",
    "    'max_depth': [int(x) for x in np.linspace(10, 50, num = 5)],\n",
    "    'feature_fraction': [0.8, 1.0],\n",
    "    'lambda_l1': [0, 0.5],\n",
    "    'lambda_l2': [0, 0.5]\n",
    "    }\n",
    "\n",
    "# LGBMRegressor model\n",
    "model_lgb = GridSearchCV(LGBMRegressor(random_state=42, verbose=-1), \n",
    "                         param_grid=param_grid, scoring='neg_root_mean_squared_error', cv=3)\n",
    "\n",
    "# training process\n",
    "model_lgb.fit(features_train, target_train)"
   ]
  },
  {
   "cell_type": "code",
   "execution_count": 182,
   "id": "af845ca9",
   "metadata": {},
   "outputs": [
    {
     "data": {
      "text/plain": [
       "2.9472592560124173"
      ]
     },
     "metadata": {},
     "output_type": "display_data"
    }
   ],
   "source": [
    "# predicted target\n",
    "pred_valid = model_lgb.predict(features_valid)\n",
    "\n",
    "# RMSE of model on validation set\n",
    "display(mean_squared_error(target_valid, pred_valid, squared=False))"
   ]
  },
  {
   "cell_type": "markdown",
   "id": "b8243c1d",
   "metadata": {},
   "source": [
    "<hr>\n",
    "\n",
    "### CatBoost\n",
    "\n",
    "Training time: 6min 40s <br>\n",
    "RMSE: <b>2.949</b>"
   ]
  },
  {
   "cell_type": "code",
   "execution_count": 183,
   "id": "60984d9e",
   "metadata": {},
   "outputs": [
    {
     "name": "stdout",
     "output_type": "stream",
     "text": [
      "CPU times: total: 20min 57s\n",
      "Wall time: 6min 40s\n"
     ]
    },
    {
     "data": {
      "text/html": [
       "<style>#sk-container-id-25 {color: black;background-color: white;}#sk-container-id-25 pre{padding: 0;}#sk-container-id-25 div.sk-toggleable {background-color: white;}#sk-container-id-25 label.sk-toggleable__label {cursor: pointer;display: block;width: 100%;margin-bottom: 0;padding: 0.3em;box-sizing: border-box;text-align: center;}#sk-container-id-25 label.sk-toggleable__label-arrow:before {content: \"▸\";float: left;margin-right: 0.25em;color: #696969;}#sk-container-id-25 label.sk-toggleable__label-arrow:hover:before {color: black;}#sk-container-id-25 div.sk-estimator:hover label.sk-toggleable__label-arrow:before {color: black;}#sk-container-id-25 div.sk-toggleable__content {max-height: 0;max-width: 0;overflow: hidden;text-align: left;background-color: #f0f8ff;}#sk-container-id-25 div.sk-toggleable__content pre {margin: 0.2em;color: black;border-radius: 0.25em;background-color: #f0f8ff;}#sk-container-id-25 input.sk-toggleable__control:checked~div.sk-toggleable__content {max-height: 200px;max-width: 100%;overflow: auto;}#sk-container-id-25 input.sk-toggleable__control:checked~label.sk-toggleable__label-arrow:before {content: \"▾\";}#sk-container-id-25 div.sk-estimator input.sk-toggleable__control:checked~label.sk-toggleable__label {background-color: #d4ebff;}#sk-container-id-25 div.sk-label input.sk-toggleable__control:checked~label.sk-toggleable__label {background-color: #d4ebff;}#sk-container-id-25 input.sk-hidden--visually {border: 0;clip: rect(1px 1px 1px 1px);clip: rect(1px, 1px, 1px, 1px);height: 1px;margin: -1px;overflow: hidden;padding: 0;position: absolute;width: 1px;}#sk-container-id-25 div.sk-estimator {font-family: monospace;background-color: #f0f8ff;border: 1px dotted black;border-radius: 0.25em;box-sizing: border-box;margin-bottom: 0.5em;}#sk-container-id-25 div.sk-estimator:hover {background-color: #d4ebff;}#sk-container-id-25 div.sk-parallel-item::after {content: \"\";width: 100%;border-bottom: 1px solid gray;flex-grow: 1;}#sk-container-id-25 div.sk-label:hover label.sk-toggleable__label {background-color: #d4ebff;}#sk-container-id-25 div.sk-serial::before {content: \"\";position: absolute;border-left: 1px solid gray;box-sizing: border-box;top: 0;bottom: 0;left: 50%;z-index: 0;}#sk-container-id-25 div.sk-serial {display: flex;flex-direction: column;align-items: center;background-color: white;padding-right: 0.2em;padding-left: 0.2em;position: relative;}#sk-container-id-25 div.sk-item {position: relative;z-index: 1;}#sk-container-id-25 div.sk-parallel {display: flex;align-items: stretch;justify-content: center;background-color: white;position: relative;}#sk-container-id-25 div.sk-item::before, #sk-container-id-25 div.sk-parallel-item::before {content: \"\";position: absolute;border-left: 1px solid gray;box-sizing: border-box;top: 0;bottom: 0;left: 50%;z-index: -1;}#sk-container-id-25 div.sk-parallel-item {display: flex;flex-direction: column;z-index: 1;position: relative;background-color: white;}#sk-container-id-25 div.sk-parallel-item:first-child::after {align-self: flex-end;width: 50%;}#sk-container-id-25 div.sk-parallel-item:last-child::after {align-self: flex-start;width: 50%;}#sk-container-id-25 div.sk-parallel-item:only-child::after {width: 0;}#sk-container-id-25 div.sk-dashed-wrapped {border: 1px dashed gray;margin: 0 0.4em 0.5em 0.4em;box-sizing: border-box;padding-bottom: 0.4em;background-color: white;}#sk-container-id-25 div.sk-label label {font-family: monospace;font-weight: bold;display: inline-block;line-height: 1.2em;}#sk-container-id-25 div.sk-label-container {text-align: center;}#sk-container-id-25 div.sk-container {/* jupyter's `normalize.less` sets `[hidden] { display: none; }` but bootstrap.min.css set `[hidden] { display: none !important; }` so we also need the `!important` here to be able to override the default hidden behavior on the sphinx rendered scikit-learn.org. See: https://github.com/scikit-learn/scikit-learn/issues/21755 */display: inline-block !important;position: relative;}#sk-container-id-25 div.sk-text-repr-fallback {display: none;}</style><div id=\"sk-container-id-25\" class=\"sk-top-container\"><div class=\"sk-text-repr-fallback\"><pre>GridSearchCV(cv=3,\n",
       "             estimator=&lt;catboost.core.CatBoostRegressor object at 0x0000025AC559B650&gt;,\n",
       "             param_grid={&#x27;depth&#x27;: [2, 9, 16], &#x27;iterations&#x27;: [10, 55, 100],\n",
       "                         &#x27;learning_rate&#x27;: [0.01, 0.1],\n",
       "                         &#x27;loss_function&#x27;: [&#x27;RMSE&#x27;]},\n",
       "             scoring=&#x27;neg_root_mean_squared_error&#x27;)</pre><b>In a Jupyter environment, please rerun this cell to show the HTML representation or trust the notebook. <br />On GitHub, the HTML representation is unable to render, please try loading this page with nbviewer.org.</b></div><div class=\"sk-container\" hidden><div class=\"sk-item sk-dashed-wrapped\"><div class=\"sk-label-container\"><div class=\"sk-label sk-toggleable\"><input class=\"sk-toggleable__control sk-hidden--visually\" id=\"sk-estimator-id-55\" type=\"checkbox\" ><label for=\"sk-estimator-id-55\" class=\"sk-toggleable__label sk-toggleable__label-arrow\">GridSearchCV</label><div class=\"sk-toggleable__content\"><pre>GridSearchCV(cv=3,\n",
       "             estimator=&lt;catboost.core.CatBoostRegressor object at 0x0000025AC559B650&gt;,\n",
       "             param_grid={&#x27;depth&#x27;: [2, 9, 16], &#x27;iterations&#x27;: [10, 55, 100],\n",
       "                         &#x27;learning_rate&#x27;: [0.01, 0.1],\n",
       "                         &#x27;loss_function&#x27;: [&#x27;RMSE&#x27;]},\n",
       "             scoring=&#x27;neg_root_mean_squared_error&#x27;)</pre></div></div></div><div class=\"sk-parallel\"><div class=\"sk-parallel-item\"><div class=\"sk-item\"><div class=\"sk-label-container\"><div class=\"sk-label sk-toggleable\"><input class=\"sk-toggleable__control sk-hidden--visually\" id=\"sk-estimator-id-56\" type=\"checkbox\" ><label for=\"sk-estimator-id-56\" class=\"sk-toggleable__label sk-toggleable__label-arrow\">estimator: CatBoostRegressor</label><div class=\"sk-toggleable__content\"><pre>&lt;catboost.core.CatBoostRegressor object at 0x0000025AC559B650&gt;</pre></div></div></div><div class=\"sk-serial\"><div class=\"sk-item\"><div class=\"sk-estimator sk-toggleable\"><input class=\"sk-toggleable__control sk-hidden--visually\" id=\"sk-estimator-id-57\" type=\"checkbox\" ><label for=\"sk-estimator-id-57\" class=\"sk-toggleable__label sk-toggleable__label-arrow\">CatBoostRegressor</label><div class=\"sk-toggleable__content\"><pre>&lt;catboost.core.CatBoostRegressor object at 0x0000025AC559B650&gt;</pre></div></div></div></div></div></div></div></div></div></div>"
      ],
      "text/plain": [
       "GridSearchCV(cv=3,\n",
       "             estimator=<catboost.core.CatBoostRegressor object at 0x0000025AC559B650>,\n",
       "             param_grid={'depth': [2, 9, 16], 'iterations': [10, 55, 100],\n",
       "                         'learning_rate': [0.01, 0.1],\n",
       "                         'loss_function': ['RMSE']},\n",
       "             scoring='neg_root_mean_squared_error')"
      ]
     },
     "execution_count": 183,
     "metadata": {},
     "output_type": "execute_result"
    }
   ],
   "source": [
    "%%time\n",
    "\n",
    "# hyperparameters variations \n",
    "depth = [int(x) for x in np.linspace(2, 16, num = 3)]\n",
    "loss_function = ['RMSE']\n",
    "iterations = [int(x) for x in np.linspace(10, 100, num = 3)]\n",
    "learning_rate = [0.01, 0.1]\n",
    "\n",
    "# hyperparameter grid\n",
    "param_grid = {'depth':depth,\n",
    "              'loss_function':loss_function,\n",
    "              'iterations':iterations,\n",
    "              'learning_rate':learning_rate\n",
    "             }\n",
    "\n",
    "# CatBoostRegressor model\n",
    "model_cat = GridSearchCV(CatBoostRegressor(), \n",
    "                         param_grid=param_grid, scoring='neg_root_mean_squared_error', cv=3)\n",
    "\n",
    "# training process \n",
    "model_cat.fit(features_train, target_train, verbose=False)"
   ]
  },
  {
   "cell_type": "code",
   "execution_count": 184,
   "id": "5b46e560",
   "metadata": {},
   "outputs": [
    {
     "data": {
      "text/plain": [
       "2.9492071798815207"
      ]
     },
     "metadata": {},
     "output_type": "display_data"
    }
   ],
   "source": [
    "# predicted target\n",
    "pred_valid = model_cat.predict(features_valid)\n",
    "\n",
    "# RMSE of model on validation set\n",
    "display(mean_squared_error(target_valid, pred_valid, squared=False))"
   ]
  },
  {
   "cell_type": "markdown",
   "id": "5d94ab3b",
   "metadata": {},
   "source": [
    "<hr>\n",
    "\n",
    "## Results\n",
    "\n",
    "From all three models I chose `LGBMRegressor` because it had the best <b>RMSE=2.947</b> and trained much faster than `CatBoost`. It also performed better than `Linear Regression`, making it the best balance between accuracy and speed"
   ]
  },
  {
   "cell_type": "code",
   "execution_count": 188,
   "id": "34c46d2f",
   "metadata": {},
   "outputs": [
    {
     "data": {
      "text/html": [
       "<div>\n",
       "<style scoped>\n",
       "    .dataframe tbody tr th:only-of-type {\n",
       "        vertical-align: middle;\n",
       "    }\n",
       "\n",
       "    .dataframe tbody tr th {\n",
       "        vertical-align: top;\n",
       "    }\n",
       "\n",
       "    .dataframe thead th {\n",
       "        text-align: right;\n",
       "    }\n",
       "</style>\n",
       "<table border=\"1\" class=\"dataframe\">\n",
       "  <thead>\n",
       "    <tr style=\"text-align: right;\">\n",
       "      <th></th>\n",
       "      <th>Training Time (s)</th>\n",
       "      <th>RMSE</th>\n",
       "    </tr>\n",
       "  </thead>\n",
       "  <tbody>\n",
       "    <tr>\n",
       "      <th>LGBMRegressor</th>\n",
       "      <td>57</td>\n",
       "      <td>2.947</td>\n",
       "    </tr>\n",
       "    <tr>\n",
       "      <th>CatBoostRegressor</th>\n",
       "      <td>400</td>\n",
       "      <td>2.949</td>\n",
       "    </tr>\n",
       "    <tr>\n",
       "      <th>LinearRegression</th>\n",
       "      <td>1</td>\n",
       "      <td>2.951</td>\n",
       "    </tr>\n",
       "  </tbody>\n",
       "</table>\n",
       "</div>"
      ],
      "text/plain": [
       "                   Training Time (s)   RMSE\n",
       "LGBMRegressor                     57  2.947\n",
       "CatBoostRegressor                400  2.949\n",
       "LinearRegression                   1  2.951"
      ]
     },
     "metadata": {},
     "output_type": "display_data"
    }
   ],
   "source": [
    "# df with models perfomance\n",
    "models_stats = pd.DataFrame(data={'Training Time (s)':[57, 400, 1], \n",
    "                                  'RMSE':[2.947, 2.949, 2.951]}, \n",
    "                            index=['LGBMRegressor', 'CatBoostRegressor', 'LinearRegression'])\n",
    "display(models_stats)"
   ]
  },
  {
   "cell_type": "markdown",
   "id": "07180ee7",
   "metadata": {},
   "source": [
    "### Dummy model\n",
    "\n",
    "Model performed slightly above the level of a dummy baseline on the test dataset, indicating that the generated data lacks a meaningful relationship between features and target."
   ]
  },
  {
   "cell_type": "code",
   "execution_count": 224,
   "id": "640b4dc7",
   "metadata": {},
   "outputs": [
    {
     "data": {
      "text/plain": [
       "'Dummy: 2.8619'"
      ]
     },
     "metadata": {},
     "output_type": "display_data"
    }
   ],
   "source": [
    "model_dummy = DummyRegressor(strategy='mean')\n",
    "\n",
    "model_dummy.fit(features_train, target_train)\n",
    "\n",
    "dummy_pred_test = model_dummy.predict(features_test)\n",
    "\n",
    "display('dummy: ' + str(round(mean_squared_error(target_test, dummy_pred_test, squared=False), 4)))"
   ]
  },
  {
   "cell_type": "code",
   "execution_count": 223,
   "id": "6ce645cd",
   "metadata": {},
   "outputs": [
    {
     "data": {
      "text/plain": [
       "'LGBM: 2.8617'"
      ]
     },
     "metadata": {},
     "output_type": "display_data"
    }
   ],
   "source": [
    "# predicted target\n",
    "pred_test = model_lgb.predict(features_test)\n",
    "\n",
    "# RMSE of model o\n",
    "display('LGBM: ' + str(round(mean_squared_error(target_test, pred_test, squared=False), 4)))\n"
   ]
  },
  {
   "cell_type": "markdown",
   "id": "8375a28a",
   "metadata": {},
   "source": [
    "<hr>\n",
    "\n",
    "## Feature Importance\n",
    "\n",
    "The feature importance analysis from the best GridSearchCV model reveals that <b>`sleep_start` is the most influential predictor, followed by `exercise_time` and `screen_time_before_bed`</b>. These three features contribute significantly more than others, indicating a strong relationship with the target variable. <br>\n",
    "In contrast, features like `gender_Male`, `gender_Other`, and `mood_score` had very low importance, suggesting minimal impact on the model’s predictions. This insight helps highlight which behavioral or lifestyle factors are most relevant in the context of the analysis."
   ]
  },
  {
   "cell_type": "code",
   "execution_count": 211,
   "id": "f8c7ec9d",
   "metadata": {},
   "outputs": [
    {
     "data": {
      "image/png": "[encoded data removed]",
      "text/plain": [
       "<Figure size 1200x800 with 1 Axes>"
      ]
     },
     "metadata": {},
     "output_type": "display_data"
    }
   ],
   "source": [
    "# best estimator\n",
    "best_model = model_lgb.best_estimator_\n",
    "\n",
    "# feature importances\n",
    "importances = best_model.feature_importances_\n",
    "\n",
    "# get feature names (if available)\n",
    "feature_names = features_train.columns if isinstance(features_train, pd.DataFrame) else [f'Feature {i}' for i in range(len(importances))]\n",
    "\n",
    "# df for plot\n",
    "feat_imp = pd.DataFrame({'Feature': feature_names,\n",
    "                         'Importance': importances\n",
    "                        }).sort_values(by='Importance', ascending=False)\n",
    "\n",
    "# bar plot\n",
    "plt.figure(figsize=(12, 8))\n",
    "plt.barh(feat_imp['Feature'], feat_imp['Importance'])\n",
    "plt.xlabel(\"Feature Importance\")\n",
    "plt.ylabel(\"Features\")\n",
    "plt.title(\"Feature Importance from Best GridSearchCV Model\")\n",
    "plt.gca().invert_yaxis()\n",
    "plt.tight_layout()\n",
    "plt.grid()\n",
    "plt.show()"
   ]
  },
  {
   "cell_type": "markdown",
   "id": "b355a264",
   "metadata": {},
   "source": [
    "<hr>\n",
    "\n",
    "## Collected Data Analysis"
   ]
  },
  {
   "cell_type": "code",
   "execution_count": 38,
   "id": "f357cddd",
   "metadata": {},
   "outputs": [
    {
     "data": {
      "text/html": [
       "<div>\n",
       "<style scoped>\n",
       "    .dataframe tbody tr th:only-of-type {\n",
       "        vertical-align: middle;\n",
       "    }\n",
       "\n",
       "    .dataframe tbody tr th {\n",
       "        vertical-align: top;\n",
       "    }\n",
       "\n",
       "    .dataframe thead th {\n",
       "        text-align: right;\n",
       "    }\n",
       "</style>\n",
       "<table border=\"1\" class=\"dataframe\">\n",
       "  <thead>\n",
       "    <tr style=\"text-align: right;\">\n",
       "      <th></th>\n",
       "      <th>age</th>\n",
       "      <th>gender</th>\n",
       "      <th>sleep_start</th>\n",
       "      <th>sleep_end</th>\n",
       "      <th>sleep_quality</th>\n",
       "      <th>exercise_time</th>\n",
       "      <th>caffeine</th>\n",
       "      <th>screen_time_before_bed</th>\n",
       "      <th>work_hours</th>\n",
       "      <th>productivity_score</th>\n",
       "      <th>mood_score</th>\n",
       "      <th>stress_score</th>\n",
       "    </tr>\n",
       "  </thead>\n",
       "  <tbody>\n",
       "    <tr>\n",
       "      <th>0</th>\n",
       "      <td>19</td>\n",
       "      <td>Female</td>\n",
       "      <td>23:00</td>\n",
       "      <td>10:06</td>\n",
       "      <td>9</td>\n",
       "      <td>10</td>\n",
       "      <td>190</td>\n",
       "      <td>3</td>\n",
       "      <td>4.0</td>\n",
       "      <td>7</td>\n",
       "      <td>8</td>\n",
       "      <td>3</td>\n",
       "    </tr>\n",
       "    <tr>\n",
       "      <th>1</th>\n",
       "      <td>21</td>\n",
       "      <td>Male</td>\n",
       "      <td>1:20</td>\n",
       "      <td>7:40</td>\n",
       "      <td>9</td>\n",
       "      <td>10</td>\n",
       "      <td>50</td>\n",
       "      <td>40</td>\n",
       "      <td>4.0</td>\n",
       "      <td>6</td>\n",
       "      <td>8</td>\n",
       "      <td>6</td>\n",
       "    </tr>\n",
       "    <tr>\n",
       "      <th>2</th>\n",
       "      <td>32</td>\n",
       "      <td>Male</td>\n",
       "      <td>23:11</td>\n",
       "      <td>7:00</td>\n",
       "      <td>7</td>\n",
       "      <td>180</td>\n",
       "      <td>60</td>\n",
       "      <td>20</td>\n",
       "      <td>5.0</td>\n",
       "      <td>7</td>\n",
       "      <td>8</td>\n",
       "      <td>7</td>\n",
       "    </tr>\n",
       "    <tr>\n",
       "      <th>3</th>\n",
       "      <td>21</td>\n",
       "      <td>Male</td>\n",
       "      <td>6:00</td>\n",
       "      <td>13:00</td>\n",
       "      <td>7</td>\n",
       "      <td>0</td>\n",
       "      <td>50</td>\n",
       "      <td>90</td>\n",
       "      <td>6.5</td>\n",
       "      <td>5</td>\n",
       "      <td>6</td>\n",
       "      <td>4</td>\n",
       "    </tr>\n",
       "    <tr>\n",
       "      <th>4</th>\n",
       "      <td>21</td>\n",
       "      <td>Female</td>\n",
       "      <td>2:00</td>\n",
       "      <td>10:00</td>\n",
       "      <td>6</td>\n",
       "      <td>10</td>\n",
       "      <td>50</td>\n",
       "      <td>40</td>\n",
       "      <td>3.0</td>\n",
       "      <td>3</td>\n",
       "      <td>6</td>\n",
       "      <td>4</td>\n",
       "    </tr>\n",
       "    <tr>\n",
       "      <th>5</th>\n",
       "      <td>22</td>\n",
       "      <td>Male</td>\n",
       "      <td>3:00</td>\n",
       "      <td>12:20</td>\n",
       "      <td>8</td>\n",
       "      <td>0</td>\n",
       "      <td>0</td>\n",
       "      <td>3</td>\n",
       "      <td>7.0</td>\n",
       "      <td>10</td>\n",
       "      <td>10</td>\n",
       "      <td>3</td>\n",
       "    </tr>\n",
       "    <tr>\n",
       "      <th>6</th>\n",
       "      <td>22</td>\n",
       "      <td>Male</td>\n",
       "      <td>0:00</td>\n",
       "      <td>9:00</td>\n",
       "      <td>10</td>\n",
       "      <td>0</td>\n",
       "      <td>0</td>\n",
       "      <td>60</td>\n",
       "      <td>8.0</td>\n",
       "      <td>10</td>\n",
       "      <td>10</td>\n",
       "      <td>10</td>\n",
       "    </tr>\n",
       "    <tr>\n",
       "      <th>7</th>\n",
       "      <td>21</td>\n",
       "      <td>Male</td>\n",
       "      <td>0:00</td>\n",
       "      <td>9:00</td>\n",
       "      <td>6</td>\n",
       "      <td>0</td>\n",
       "      <td>0</td>\n",
       "      <td>270</td>\n",
       "      <td>3.0</td>\n",
       "      <td>8</td>\n",
       "      <td>9</td>\n",
       "      <td>1</td>\n",
       "    </tr>\n",
       "    <tr>\n",
       "      <th>8</th>\n",
       "      <td>18</td>\n",
       "      <td>Female</td>\n",
       "      <td>21:30</td>\n",
       "      <td>6:10</td>\n",
       "      <td>8</td>\n",
       "      <td>0</td>\n",
       "      <td>230</td>\n",
       "      <td>3</td>\n",
       "      <td>8.0</td>\n",
       "      <td>8</td>\n",
       "      <td>6</td>\n",
       "      <td>6</td>\n",
       "    </tr>\n",
       "    <tr>\n",
       "      <th>9</th>\n",
       "      <td>30</td>\n",
       "      <td>Female</td>\n",
       "      <td>23:00</td>\n",
       "      <td>7:15</td>\n",
       "      <td>8</td>\n",
       "      <td>0</td>\n",
       "      <td>400</td>\n",
       "      <td>120</td>\n",
       "      <td>7.0</td>\n",
       "      <td>8</td>\n",
       "      <td>7</td>\n",
       "      <td>3</td>\n",
       "    </tr>\n",
       "  </tbody>\n",
       "</table>\n",
       "</div>"
      ],
      "text/plain": [
       "   age  gender sleep_start sleep_end  sleep_quality  exercise_time  caffeine  \\\n",
       "0   19  Female       23:00     10:06              9             10       190   \n",
       "1   21    Male        1:20      7:40              9             10        50   \n",
       "2   32    Male       23:11      7:00              7            180        60   \n",
       "3   21    Male        6:00     13:00              7              0        50   \n",
       "4   21  Female        2:00     10:00              6             10        50   \n",
       "5   22    Male        3:00     12:20              8              0         0   \n",
       "6   22    Male        0:00      9:00             10              0         0   \n",
       "7   21    Male        0:00      9:00              6              0         0   \n",
       "8   18  Female       21:30      6:10              8              0       230   \n",
       "9   30  Female       23:00      7:15              8              0       400   \n",
       "\n",
       "   screen_time_before_bed  work_hours  productivity_score  mood_score  \\\n",
       "0                       3         4.0                   7           8   \n",
       "1                      40         4.0                   6           8   \n",
       "2                      20         5.0                   7           8   \n",
       "3                      90         6.5                   5           6   \n",
       "4                      40         3.0                   3           6   \n",
       "5                       3         7.0                  10          10   \n",
       "6                      60         8.0                  10          10   \n",
       "7                     270         3.0                   8           9   \n",
       "8                       3         8.0                   8           6   \n",
       "9                     120         7.0                   8           7   \n",
       "\n",
       "   stress_score  \n",
       "0             3  \n",
       "1             6  \n",
       "2             7  \n",
       "3             4  \n",
       "4             4  \n",
       "5             3  \n",
       "6            10  \n",
       "7             1  \n",
       "8             6  \n",
       "9             3  "
      ]
     },
     "metadata": {},
     "output_type": "display_data"
    }
   ],
   "source": [
    "real_data = pd.read_csv('collected_data.csv')\n",
    "\n",
    "display(real_data)"
   ]
  },
  {
   "cell_type": "markdown",
   "id": "7f58cb8d",
   "metadata": {},
   "source": [
    "<hr>\n",
    "\n",
    "### Preprocessing "
   ]
  },
  {
   "cell_type": "code",
   "execution_count": 39,
   "id": "9da491f9",
   "metadata": {},
   "outputs": [],
   "source": [
    "def time_to_float(t):\n",
    "    h, m = map(int, t.split(':'))\n",
    "    return round(h + m / 60, 2)"
   ]
  },
  {
   "cell_type": "code",
   "execution_count": 40,
   "id": "e4add2ef",
   "metadata": {},
   "outputs": [],
   "source": [
    "def compute_total_sleep(start, end):\n",
    "    start = time_to_float(start)\n",
    "    end = time_to_float(end)\n",
    "    duration = end - start\n",
    "    \n",
    "    if duration < 0:\n",
    "        duration += 24\n",
    "    return round(duration, 2)"
   ]
  },
  {
   "cell_type": "code",
   "execution_count": 41,
   "id": "d8a47e89",
   "metadata": {},
   "outputs": [],
   "source": [
    "real_data['total_sleep'] = real_data.apply(lambda row: compute_total_sleep(row['sleep_start'], row['sleep_end']), axis=1)\n",
    "\n",
    "real_data['sleep_start'] = real_data['sleep_start'].apply(time_to_float)\n",
    "real_data['sleep_end'] = real_data['sleep_end'].apply(time_to_float)"
   ]
  },
  {
   "cell_type": "markdown",
   "id": "dbc51454",
   "metadata": {},
   "source": [
    "<b>Performed once:</b>\n",
    "\n",
    "`real_data.to_csv(\"collected_data_prepared.csv\", index=False)`"
   ]
  },
  {
   "cell_type": "markdown",
   "id": "5be4c2bc",
   "metadata": {},
   "source": [
    "In order to take a closer look using <b>Power BI</b>."
   ]
  },
  {
   "cell_type": "code",
   "execution_count": null,
   "id": "8c0ccd2c",
   "metadata": {},
   "outputs": [],
   "source": []
  }
 ],
 "metadata": {
  "kernelspec": {
   "display_name": "Python 3 (ipykernel)",
   "language": "python",
   "name": "python3"
  },
  "language_info": {
   "codemirror_mode": {
    "name": "ipython",
    "version": 3
   },
   "file_extension": ".py",
   "mimetype": "text/x-python",
   "name": "python",
   "nbconvert_exporter": "python",
   "pygments_lexer": "ipython3",
   "version": "3.11.7"
  }
 },
 "nbformat": 4,
 "nbformat_minor": 5
}
